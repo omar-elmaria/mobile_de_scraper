{
 "cells": [
  {
   "cell_type": "code",
   "execution_count": 1,
   "metadata": {},
   "outputs": [],
   "source": [
    "import json\n",
    "import pandas as pd\n",
    "import re\n",
    "from google.cloud import bigquery\n",
    "from google.oauth2 import service_account\n",
    "import os\n",
    "from datetime import datetime"
   ]
  },
  {
   "cell_type": "code",
   "execution_count": 2,
   "metadata": {},
   "outputs": [],
   "source": [
    "with open(f\"df_all_brands_data_cat_1.json\", mode=\"r\", encoding=\"utf-8\") as f:\n",
    "    data = json.load(f)\n",
    "    f.close()\n",
    "\n",
    "df_data_all_car_brands = []\n",
    "for i in data: # Loop through every page\n",
    "    for j in i: # Loop through each car listing on a specific page\n",
    "        df_data_all_car_brands.append(j)\n",
    "\n",
    "df_data_all_car_brands = pd.DataFrame(df_data_all_car_brands)\n",
    "\n",
    "# Step 14: Clean the data\n",
    "df_data_all_car_brands_cleaned = df_data_all_car_brands.copy()\n",
    "df_data_all_car_brands_cleaned.replace(to_replace=\"\", value=None, inplace=True)\n",
    "df_data_all_car_brands_cleaned[\"leistung\"] = df_data_all_car_brands_cleaned[\"leistung\"].apply(lambda x: int(re.findall(pattern=\"(?<=\\().*(?=\\sPS)\", string=x)[0].replace(\".\", \"\")) if x is not None else x)\n",
    "df_data_all_car_brands_cleaned[\"preis\"] = df_data_all_car_brands_cleaned[\"preis\"].apply(lambda x: int(''.join(re.findall(pattern=\"\\d+\", string=x))) if x is not None else x)\n",
    "df_data_all_car_brands_cleaned[\"kilometer\"] = df_data_all_car_brands_cleaned[\"kilometer\"].apply(lambda x: int(''.join(re.findall(pattern=\"\\d+\", string=x))) if x is not None else x)\n",
    "df_data_all_car_brands_cleaned[\"fahrzeughalter\"] = df_data_all_car_brands_cleaned[\"fahrzeughalter\"].apply(lambda x: int(x) if x is not None else x)\n",
    "df_data_all_car_brands_cleaned[\"standort\"] = df_data_all_car_brands_cleaned[\"standort\"].apply(lambda x: re.findall(pattern=\"[A-za-z]+(?=-)\", string=x)[0] if x is not None else x)\n",
    "df_data_all_car_brands_cleaned[\"crawled_timestamp\"] = datetime.now()"
   ]
  },
  {
   "cell_type": "code",
   "execution_count": 6,
   "metadata": {},
   "outputs": [
    {
     "data": {
      "text/plain": [
       "LoadJob<project=web-scraping-371310, location=EU, id=1cb80362-4807-43d2-b945-656402726fe5>"
      ]
     },
     "execution_count": 6,
     "metadata": {},
     "output_type": "execute_result"
    }
   ],
   "source": [
    "key_path_cwd = os.path.expanduser(\"~\") + \"/bq_credentials.json\"\n",
    "key_path1_home_dir = os.getcwd() + \"/bq_credentials.json\"\n",
    "try:\n",
    "    credentials = service_account.Credentials.from_service_account_file(\n",
    "        key_path1_home_dir, scopes=[\"https://www.googleapis.com/auth/cloud-platform\"],\n",
    "    )\n",
    "    email_flag = \"home_dir\"\n",
    "except FileNotFoundError:\n",
    "    credentials = service_account.Credentials.from_service_account_file(\n",
    "        key_path_cwd, scopes=[\"https://www.googleapis.com/auth/cloud-platform\"],\n",
    "    )\n",
    "    email_flag = \"cwd\"\n",
    "\n",
    "# Now, instantiate the client and upload the table to BigQuery\n",
    "client = bigquery.Client(project=\"web-scraping-371310\", credentials=credentials)\n",
    "job_config = bigquery.LoadJobConfig(\n",
    "    schema = [\n",
    "        bigquery.SchemaField(\"marke\", \"STRING\"),\n",
    "        bigquery.SchemaField(\"modell\", \"STRING\"),\n",
    "        bigquery.SchemaField(\"variante\", \"STRING\"),\n",
    "        bigquery.SchemaField(\"titel\", \"STRING\"),\n",
    "        bigquery.SchemaField(\"form\", \"STRING\"),\n",
    "        bigquery.SchemaField(\"fahrzeugzustand\", \"STRING\"),\n",
    "        bigquery.SchemaField(\"leistung\", \"FLOAT64\"),\n",
    "        bigquery.SchemaField(\"getriebe\", \"STRING\"),\n",
    "        bigquery.SchemaField(\"farbe\", \"STRING\"),\n",
    "        bigquery.SchemaField(\"preis\", \"INT64\"),\n",
    "        bigquery.SchemaField(\"kilometer\", \"FLOAT64\"),\n",
    "        bigquery.SchemaField(\"erstzulassung\", \"STRING\"),\n",
    "        bigquery.SchemaField(\"fahrzeughalter\", \"FLOAT64\"),\n",
    "        bigquery.SchemaField(\"standort\", \"STRING\"),\n",
    "        bigquery.SchemaField(\"fahrzeugbescheibung\", \"STRING\"),\n",
    "        bigquery.SchemaField(\"url_to_crawl\", \"STRING\"),\n",
    "        bigquery.SchemaField(\"page_rank\", \"INT64\"),\n",
    "        bigquery.SchemaField(\"total_num_pages\", \"INT64\"),\n",
    "        bigquery.SchemaField(\"crawled_timestamp\", \"TIMESTAMP\"),\n",
    "    ]\n",
    ")\n",
    "job_config.write_disposition = bigquery.WriteDisposition.WRITE_APPEND\n",
    "\n",
    "# Upload the table\n",
    "client.load_table_from_dataframe(\n",
    "    dataframe=df_data_all_car_brands_cleaned,\n",
    "    destination=\"web-scraping-371310.crawled_datasets.lukas_mobile_de\",\n",
    "    job_config=job_config\n",
    ").result()"
   ]
  }
 ],
 "metadata": {
  "kernelspec": {
   "display_name": "venv_scraping",
   "language": "python",
   "name": "python3"
  },
  "language_info": {
   "codemirror_mode": {
    "name": "ipython",
    "version": 3
   },
   "file_extension": ".py",
   "mimetype": "text/x-python",
   "name": "python",
   "nbconvert_exporter": "python",
   "pygments_lexer": "ipython3",
   "version": "3.10.7"
  },
  "orig_nbformat": 4,
  "vscode": {
   "interpreter": {
    "hash": "7c5a224ee8d70e0c2c09da925d09fa4cfc21ad72f8239495770bf94d17e52cd6"
   }
  }
 },
 "nbformat": 4,
 "nbformat_minor": 2
}
