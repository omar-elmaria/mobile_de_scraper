{
 "cells": [
  {
   "cell_type": "code",
   "execution_count": null,
   "metadata": {},
   "outputs": [],
   "source": [
    "import json\n",
    "import pandas as pd\n",
    "import re\n",
    "from google.cloud import bigquery\n",
    "from google.oauth2 import service_account\n",
    "import os\n",
    "from datetime import datetime\n",
    "from datetime import date"
   ]
  },
  {
   "cell_type": "code",
   "execution_count": 4,
   "metadata": {},
   "outputs": [],
   "source": [
    "with open(\"koenigsegg.json\", mode=\"r\", encoding=\"utf-8\") as f:\n",
    "    data = json.load(f)\n",
    "    f.close()"
   ]
  },
  {
   "cell_type": "code",
   "execution_count": 5,
   "metadata": {},
   "outputs": [],
   "source": [
    "x = []\n",
    "for i in data: # Loop through every page\n",
    "    for j in i: # Loop through every individual car listing on a specific page\n",
    "        x.append(j)\n",
    "\n",
    "x = pd.DataFrame(x)\n"
   ]
  },
  {
   "cell_type": "code",
   "execution_count": 6,
   "metadata": {},
   "outputs": [],
   "source": [
    "y = x.copy()\n",
    "y.replace(to_replace=\"\", value=None, inplace=True)\n",
    "y[\"leistung\"] = y[\"leistung\"].apply(lambda x: int(re.findall(pattern=\"(?<=\\()\\d+\", string=x)[0]) if x is not None else x)\n",
    "y[\"preis\"] = y[\"preis\"].apply(lambda x: int(''.join(re.findall(pattern=\"\\d+\", string=x))) if x is not None else x)\n",
    "y[\"kilometer\"] = y[\"kilometer\"].apply(lambda x: int(''.join(re.findall(pattern=\"\\d+\", string=x))) if x is not None else x)\n",
    "y[\"fahrzeughalter\"] = y[\"fahrzeughalter\"].apply(lambda x: int(x) if x is not None else x)\n",
    "y[\"standort\"] = y[\"standort\"].apply(lambda x: re.findall(pattern=\"[A-za-z]+(?=-)\", string=x)[0] if x is not None else x)"
   ]
  },
  {
   "cell_type": "code",
   "execution_count": 7,
   "metadata": {},
   "outputs": [],
   "source": [
    "y[\"crawled_timestamp\"] = datetime.now()"
   ]
  },
  {
   "cell_type": "code",
   "execution_count": 12,
   "metadata": {},
   "outputs": [
    {
     "name": "stdout",
     "output_type": "stream",
     "text": [
      "<class 'pandas.core.frame.DataFrame'>\n",
      "RangeIndex: 520 entries, 0 to 519\n",
      "Data columns (total 19 columns):\n",
      " #   Column               Non-Null Count  Dtype         \n",
      "---  ------               --------------  -----         \n",
      " 0   marke                520 non-null    object        \n",
      " 1   modell               520 non-null    object        \n",
      " 2   variante             0 non-null      object        \n",
      " 3   titel                520 non-null    object        \n",
      " 4   form                 520 non-null    object        \n",
      " 5   fahrzeugzustand      325 non-null    object        \n",
      " 6   leistung             471 non-null    float64       \n",
      " 7   getriebe             511 non-null    object        \n",
      " 8   farbe                10 non-null     object        \n",
      " 9   preis                520 non-null    int64         \n",
      " 10  kilometer            514 non-null    float64       \n",
      " 11  erstzulassung        482 non-null    object        \n",
      " 12  fahrzeughalter       247 non-null    float64       \n",
      " 13  standort             520 non-null    object        \n",
      " 14  fahrzeugbescheibung  498 non-null    object        \n",
      " 15  url_to_crawl         520 non-null    object        \n",
      " 16  page_rank            520 non-null    int64         \n",
      " 17  total_num_pages      520 non-null    int64         \n",
      " 18  crawled_timestamp    520 non-null    datetime64[ns]\n",
      "dtypes: datetime64[ns](1), float64(3), int64(3), object(12)\n",
      "memory usage: 77.3+ KB\n"
     ]
    }
   ],
   "source": [
    "y.info()"
   ]
  },
  {
   "cell_type": "code",
   "execution_count": 74,
   "metadata": {},
   "outputs": [
    {
     "data": {
      "text/plain": [
       "'https://suchen.mobile.de/fahrzeuge/details.html?id=296584429&damageUnrepaired=ALSO_DAMAGE_UNREPAIRED&isSearchRequest=true&makeModelVariant1.makeId=13900&pageNumber=1&scopeId=C&fnai=prev&searchId=bda3cb2f-5499-bbae-6d80-24ecea55a156&ref=srp'"
      ]
     },
     "execution_count": 74,
     "metadata": {},
     "output_type": "execute_result"
    }
   ],
   "source": [
    "y[y[\"farbe\"].isnull()].loc[0, \"url_to_crawl\"]"
   ]
  },
  {
   "cell_type": "code",
   "execution_count": 13,
   "metadata": {},
   "outputs": [],
   "source": [
    "# First, set the credentials\n",
    "key_path = os.getcwd() + \"/bq_credentials.json\"\n",
    "credentials = service_account.Credentials.from_service_account_file(\n",
    "    key_path, scopes=[\"https://www.googleapis.com/auth/cloud-platform\"],\n",
    ")\n",
    "\n",
    "# Now, instantiate the client and upload the table to BigQuery\n",
    "client = bigquery.Client(project=\"web-scraping-371310\", credentials=credentials)\n",
    "job_config = bigquery.LoadJobConfig(\n",
    "    schema = [\n",
    "        bigquery.SchemaField(\"marke\", \"STRING\"),\n",
    "        bigquery.SchemaField(\"modell\", \"STRING\"),\n",
    "        bigquery.SchemaField(\"variante\", \"STRING\"),\n",
    "        bigquery.SchemaField(\"titel\", \"STRING\"),\n",
    "        bigquery.SchemaField(\"form\", \"STRING\"),\n",
    "        bigquery.SchemaField(\"fahrzeugzustand\", \"STRING\"),\n",
    "        bigquery.SchemaField(\"leistung\", \"FLOAT64\"),\n",
    "        bigquery.SchemaField(\"getriebe\", \"STRING\"),\n",
    "        bigquery.SchemaField(\"farbe\", \"STRING\"),\n",
    "        bigquery.SchemaField(\"preis\", \"INT64\"),\n",
    "        bigquery.SchemaField(\"kilometer\", \"FLOAT64\"),\n",
    "        bigquery.SchemaField(\"erstzulassung\", \"STRING\"),\n",
    "        bigquery.SchemaField(\"fahrzeughalter\", \"FLOAT64\"),\n",
    "        bigquery.SchemaField(\"standort\", \"STRING\"),\n",
    "        bigquery.SchemaField(\"fahrzeugbescheibung\", \"STRING\"),\n",
    "        bigquery.SchemaField(\"url_to_crawl\", \"STRING\"),\n",
    "        bigquery.SchemaField(\"page_rank\", \"INT64\"),\n",
    "        bigquery.SchemaField(\"total_num_pages\", \"INT64\"),\n",
    "        bigquery.SchemaField(\"crawled_timestamp\", \"TIMESTAMP\"),\n",
    "    ]\n",
    ")\n",
    "job_config.write_disposition = bigquery.WriteDisposition.WRITE_APPEND\n",
    "\n",
    "# Upload the table\n",
    "job = client.load_table_from_dataframe(\n",
    "    dataframe=y,\n",
    "    destination=\"web-scraping-371310.crawled_datasets.lukas_mobile_de\",\n",
    "    job_config=job_config\n",
    ").result()"
   ]
  }
 ],
 "metadata": {
  "kernelspec": {
   "display_name": "venv_scraping",
   "language": "python",
   "name": "python3"
  },
  "language_info": {
   "codemirror_mode": {
    "name": "ipython",
    "version": 3
   },
   "file_extension": ".py",
   "mimetype": "text/x-python",
   "name": "python",
   "nbconvert_exporter": "python",
   "pygments_lexer": "ipython3",
   "version": "3.10.7 (tags/v3.10.7:6cc6b13, Sep  5 2022, 14:08:36) [MSC v.1933 64 bit (AMD64)]"
  },
  "orig_nbformat": 4,
  "vscode": {
   "interpreter": {
    "hash": "7c5a224ee8d70e0c2c09da925d09fa4cfc21ad72f8239495770bf94d17e52cd6"
   }
  }
 },
 "nbformat": 4,
 "nbformat_minor": 2
}
